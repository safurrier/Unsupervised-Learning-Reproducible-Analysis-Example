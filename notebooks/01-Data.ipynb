{
 "cells": [
  {
   "cell_type": "code",
   "execution_count": 9,
   "metadata": {},
   "outputs": [],
   "source": [
    "import pandas as pd\n",
    "import ruamel.yaml as yaml\n",
    "import os\n",
    "import numpy as np\n",
    "import sys\n",
    "import sklearn.model_selection as ms\n",
    "\n",
    "# ## Change to Root\n",
    "\n",
    "# In[15]:\n",
    "\n",
    "\n",
    "NO_CONFIG_ERR_MSG = \"\"\"No config file found. Root directory is determined by presence of \"config.yaml\" file.\"\"\"        \n",
    "\n",
    "original_wd = os.getcwd()\n",
    "\n",
    "# Number of times to move back in directory\n",
    "num_retries = 10\n",
    "for x in range(0, num_retries):\n",
    "    # try to load config file    \n",
    "    try:\n",
    "        with open(\"config.yaml\", 'r') as stream:\n",
    "            cfg = yaml.safe_load(stream)\n",
    "    # If not found move back one directory level\n",
    "    except FileNotFoundError:\n",
    "        os.chdir('../')\n",
    "        # If reached the max number of directory levels change to original wd and print error msg\n",
    "        if x+1 == num_retries:\n",
    "            os.chdir(original_wd)\n",
    "            print(NO_CONFIG_ERR_MSG)\n",
    "            \n",
    "# Add directory to PATH\n",
    "path = os.getcwd()\n",
    "\n",
    "if path not in sys.path:\n",
    "    sys.path.append(path)"
   ]
  },
  {
   "cell_type": "markdown",
   "metadata": {},
   "source": [
    "## Madelon Dataset"
   ]
  },
  {
   "cell_type": "code",
   "execution_count": 14,
   "metadata": {},
   "outputs": [],
   "source": [
    "#### Parse Madelon Data\n",
    "madX1 = pd.read_csv('data/raw/madelon_train.data',header=None,sep=' ')\n",
    "madX2 = pd.read_csv('data/raw/madelon_valid.data',header=None,sep=' ')\n",
    "madX = pd.concat([madX1,madX2],0).astype(float)\n",
    "madY1 = pd.read_csv('data/raw/madelon_train.labels',header=None,sep=' ')\n",
    "madY2 = pd.read_csv('data/raw/madelon_valid.labels',header=None,sep=' ')\n",
    "madY = pd.concat([madY1,madY2],0)\n",
    "madY.columns = ['Class']\n",
    "\n",
    "madelon_trgX, madelon_tstX, madelon_trgY, madelon_tstY = ms.train_test_split(madX, madY, test_size=0.3, random_state=0,stratify=madY)     \n",
    "\n",
    "madX = pd.DataFrame(madelon_trgX)\n",
    "madY = pd.DataFrame(madelon_trgY)\n",
    "madY.columns = ['Class']\n",
    "\n",
    "madX2 = pd.DataFrame(madelon_tstX)\n",
    "madY2 = pd.DataFrame(madelon_tstY)\n",
    "madY2.columns = ['Class']\n",
    "\n",
    "mad1 = pd.concat([madX,madY],1)\n",
    "mad1 = mad1.dropna(axis=1,how='all')\n",
    "#mad1.to_hdf(OUT+'datasets.hdf','madelon',complib='blosc',complevel=9)\n",
    "\n",
    "mad2 = pd.concat([madX2,madY2],1)\n",
    "mad2 = mad2.dropna(axis=1,how='all')\n",
    "#mad2.to_hdf(OUT+'datasets.hdf','madelon_test',complib='blosc',complevel=9)"
   ]
  },
  {
   "cell_type": "markdown",
   "metadata": {},
   "source": [
    "## Cars Dataset"
   ]
  },
  {
   "cell_type": "code",
   "execution_count": 12,
   "metadata": {},
   "outputs": [],
   "source": [
    "cars_df = pd.read_csv('data/raw/car.data.txt', header=None, \n",
    "                      names=[\n",
    "                          \"buying \", \n",
    "                          \"maint\", \n",
    "                          \"doors\", \n",
    "                          \"persons\", \n",
    "                          \"lug_boot\", \n",
    "                          \"safety\",\n",
    "                          'Class'\n",
    "                      ])\n",
    "cars_df.head()\n",
    "\n",
    "# Changing to binary classification problem\n",
    "# Acceptable, Good and Very Good all become the positive class 1\n",
    "# Unacceptable is the negative class 0\n",
    "cars_df['Class'] = cars_df['Class'].replace({'unacc':0,'acc':1,'vgood':2,'good':2})\n",
    "cars_df['doors'] = cars_df['doors'].replace({'5more':5}).apply(pd.to_numeric)\n",
    "\n",
    "one_hot_columns = pd.get_dummies(cars_df.select_dtypes(include='object')).rename(columns=lambda x: x.replace('-','_'))\n",
    "cars_df = pd.concat([one_hot_columns, cars_df[['doors','Class']]], axis=1)\n",
    "\n",
    "#cars_df.to_hdf('data/processed/datasets.hdf','cars',complib='blosc',complevel=9)"
   ]
  },
  {
   "cell_type": "code",
   "execution_count": null,
   "metadata": {},
   "outputs": [],
   "source": []
  }
 ],
 "metadata": {
  "kernelspec": {
   "display_name": "task",
   "language": "python",
   "name": "task"
  },
  "language_info": {
   "codemirror_mode": {
    "name": "ipython",
    "version": 3
   },
   "file_extension": ".py",
   "mimetype": "text/x-python",
   "name": "python",
   "nbconvert_exporter": "python",
   "pygments_lexer": "ipython3",
   "version": "3.7.0"
  }
 },
 "nbformat": 4,
 "nbformat_minor": 2
}
